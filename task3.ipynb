{
 "cells": [
  {
   "cell_type": "markdown",
   "id": "0343ab9b-0237-4782-81a7-652cc5a7b962",
   "metadata": {},
   "source": [
    "# Assignemt 3 - Task 3"
   ]
  },
  {
   "cell_type": "code",
   "execution_count": 1,
   "id": "9966724a-47c8-4cf8-8d9d-a6c3cb073a02",
   "metadata": {},
   "outputs": [],
   "source": [
    "import cv2\n",
    "import numpy as np\n",
    "import matplotlib.pyplot as plt"
   ]
  },
  {
   "cell_type": "markdown",
   "id": "26c2ed44-c8de-4fe5-acb7-ba2df552e4d2",
   "metadata": {},
   "source": [
    "## Bounding Box"
   ]
  },
  {
   "cell_type": "code",
   "execution_count": 2,
   "id": "4a6b30fc-0d62-46d3-89e7-d4bb3e401bb6",
   "metadata": {},
   "outputs": [],
   "source": [
    "fgbg = cv2.createBackgroundSubtractorMOG2()\n",
    "video = cv2.VideoCapture(\"data/motion/crosswalk.avi\")\n",
    "scale = 0.2"
   ]
  },
  {
   "cell_type": "code",
   "execution_count": 3,
   "id": "46fd7a29-30c8-4e1c-8c48-b3979f7857f3",
   "metadata": {},
   "outputs": [],
   "source": [
    "while video.isOpened():\n",
    "    ret, curr_frame = video.read()   \n",
    "    if not ret or cv2.waitKey(1) & 0xFF == ord('q'):\n",
    "        break\n",
    "\n",
    "    curr_gray = cv2.cvtColor(curr_frame, cv2.COLOR_BGR2GRAY)\n",
    "    curr_gray = cv2.resize(curr_gray, None, fx=scale, fy=scale)\n",
    "    curr_frame = cv2.resize(curr_frame, None, fx=scale, fy=scale)\n",
    "\n",
    "    fgmask = fgbg.apply(curr_gray)\n",
    "    mask_of_movement = np.where((fgmask == 255) | (fgmask == 127), 1, 0).astype(np.uint8)\n",
    "    contours, _ = cv2.findContours(mask_of_movement, cv2.RETR_EXTERNAL, cv2.CHAIN_APPROX_SIMPLE)\n",
    "    \n",
    "    for contour in contours:\n",
    "        x, y, w, h = cv2.boundingRect(contour)\n",
    "        if w > 4 and h > 4:\n",
    "            cv2.rectangle(curr_frame, (x, y), (x + w, y + h), (0,255,0), 1)\n",
    "\n",
    "    cv2.imshow(\"Frame\", curr_frame)\n",
    "\n",
    "video.release() \n",
    "cv2.destroyAllWindows()"
   ]
  },
  {
   "cell_type": "markdown",
   "id": "dfc76a5a-d1f3-4eac-ad32-e203444966ad",
   "metadata": {},
   "source": [
    "## Dense Optical Flow"
   ]
  },
  {
   "cell_type": "code",
   "execution_count": 4,
   "id": "9b713cee-95e8-4d1d-90ba-d9c876a1bfe6",
   "metadata": {},
   "outputs": [],
   "source": [
    "video = cv2.VideoCapture(\"data/motion/crosswalk.avi\")\n",
    "_, frame1 = video.read()\n",
    "\n",
    "prev_gray = cv2.cvtColor(frame1, cv2.COLOR_BGR2GRAY)\n",
    "prev_gray = cv2.resize(prev_gray, None, fx=scale, fy=scale)\n",
    "\n",
    "mask = np.zeros((prev_gray.shape[0], prev_gray.shape[1], 3), np.uint8)\n",
    "mask[:,:,1] = 255\n",
    "\n",
    "params = {\n",
    "    \"pyr_scale\": 0.5,\n",
    "    \"levels\": 1,\n",
    "    \"winsize\": 10,\n",
    "    \"iterations\": 3,\n",
    "    \"poly_n\": 7,\n",
    "    \"poly_sigma\": 1.5,\n",
    "    \"flags\": 0\n",
    "}"
   ]
  },
  {
   "cell_type": "code",
   "execution_count": 5,
   "id": "12bb641a-3e81-4dfe-86de-2bd53f13d866",
   "metadata": {},
   "outputs": [],
   "source": [
    "while video.isOpened():\n",
    "    ret, curr_frame = video.read()\n",
    "    if not ret or cv2.waitKey(1) & 0xFF == ord('q'):\n",
    "        break\n",
    "\n",
    "    curr_gray = cv2.cvtColor(curr_frame, cv2.COLOR_BGR2GRAY)\n",
    "    curr_gray = cv2.resize(curr_gray, None, fx=scale, fy=scale)\n",
    "\n",
    "    flow = cv2.calcOpticalFlowFarneback(prev_gray, curr_gray, None, **params)\n",
    "    magnitude, angle = cv2.cartToPolar(flow[:,:,0], flow[:,:,1])\n",
    "\n",
    "    mask[:,:,0] = angle * 180 / np.pi / 2\n",
    "    mask[:,:,2] = cv2.normalize(magnitude, None, 0, 255, cv2.NORM_MINMAX)\n",
    "    bgr_frame = cv2.cvtColor(mask, cv2.COLOR_HSV2BGR)\n",
    "    cv2.imshow(\"Frame\", bgr_frame)\n",
    "\n",
    "    prev_gray = curr_gray\n",
    "\n",
    "video.release() \n",
    "cv2.destroyAllWindows()"
   ]
  },
  {
   "cell_type": "markdown",
   "id": "22c20ad1-5538-4fcc-84fc-354fc41f82e7",
   "metadata": {},
   "source": [
    "## Sparse Optical Flow"
   ]
  },
  {
   "cell_type": "code",
   "execution_count": 138,
   "id": "faac16db-0bbd-4a29-b78d-71ee7cac4e82",
   "metadata": {},
   "outputs": [],
   "source": [
    "video = cv2.VideoCapture(\"data/motion/crosswalk.avi\")\n",
    "_, frame1 = video.read()\n",
    "\n",
    "feature_params = {\n",
    "    \"mask\": None,\n",
    "    \"maxCorners\": 0,\n",
    "    \"qualityLevel\": 0.3,\n",
    "    \"minDistance\": 25,\n",
    "    \"blockSize\": 3\n",
    "}\n",
    "\n",
    "lk_params = {\n",
    "    \"winSize\": (15, 15),\n",
    "    \"maxLevel\": 2,\n",
    "    \"criteria\": (cv2.TERM_CRITERIA_EPS | cv2.TERM_CRITERIA_COUNT, 10, 0.03)\n",
    "}\n",
    "\n",
    "prev_gray = cv2.cvtColor(frame1, cv2.COLOR_BGR2GRAY)\n",
    "prev_gray = cv2.resize(prev_gray, None, fx=scale, fy=scale)\n",
    "\n",
    "mask = np.zeros((prev_gray.shape[0], prev_gray.shape[1], 3), np.uint8)\n",
    "p_prev = cv2.goodFeaturesToTrack(prev_gray, **feature_params)"
   ]
  },
  {
   "cell_type": "code",
   "execution_count": 139,
   "id": "e8c38377-55c5-4c7b-9560-aeedd56f320b",
   "metadata": {},
   "outputs": [],
   "source": [
    "colors = np.random.randint(0, 255, (100, 3))\n",
    "\n",
    "while video.isOpened():\n",
    "    ret, curr_frame = video.read()   \n",
    "    if not ret or cv2.waitKey(1) & 0xFF == ord('q'):\n",
    "        break\n",
    "\n",
    "    curr_gray = cv2.cvtColor(curr_frame, cv2.COLOR_BGR2GRAY)\n",
    "    curr_gray = cv2.resize(curr_gray, None, fx=scale, fy=scale)\n",
    "    curr_frame = cv2.resize(curr_frame, None, fx=scale, fy=scale)\n",
    "    p_curr, status, _ = cv2.calcOpticalFlowPyrLK(prev_gray, curr_gray, p_prev, None, **lk_params)\n",
    "\n",
    "    if p_curr is not None:\n",
    "        p_prev = p_prev[status == 1]\n",
    "        p_curr = p_curr[status == 1]\n",
    "\n",
    "    for i, (prev, curr) in enumerate(zip(p_prev, p_curr)):\n",
    "        a, b = curr.ravel()\n",
    "        c, d = prev.ravel()\n",
    "\n",
    "        mask = cv2.line(mask, (int(a),int(b)), (int(c),int(d)), colors[i].tolist(), 2)\n",
    "        curr_frame = cv2.circle(curr_frame, (int(a),int(b)), 4, colors[i].tolist(), -1)\n",
    "        img = cv2.add(curr_frame, mask)\n",
    "\n",
    "    cv2.imshow(\"Frame\", img)\n",
    "    p_prev = p_curr.reshape(-1, 1, 2)\n",
    "    prev_gray = curr_gray\n",
    "\n",
    "video.release()\n",
    "cv2.destroyAllWindows()"
   ]
  },
  {
   "cell_type": "markdown",
   "id": "8a2da7b1-6bd8-4163-9d96-2d15c608f80d",
   "metadata": {},
   "source": [
    "## Moving Object Removal"
   ]
  },
  {
   "cell_type": "code",
   "execution_count": 108,
   "id": "8c1cd135-81db-4ee2-a8d9-20a2bb305695",
   "metadata": {},
   "outputs": [],
   "source": [
    "video = cv2.VideoCapture(\"data/motion/crosswalk.avi\")\n",
    "_, frame1 = video.read()\n",
    "\n",
    "frame1 = cv2.resize(frame1, None, fx=scale, fy=scale)"
   ]
  },
  {
   "cell_type": "code",
   "execution_count": 109,
   "id": "91217925-668b-4b14-a6ce-a9d3e2f3b26d",
   "metadata": {},
   "outputs": [],
   "source": [
    "running_average = np.float32(frame1)\n",
    "\n",
    "while video.isOpened():\n",
    "    ret, curr_frame = video.read()   \n",
    "    if not ret or cv2.waitKey(1) & 0xFF == ord('q'):\n",
    "        break\n",
    "\n",
    "    curr_gray = cv2.cvtColor(curr_frame, cv2.COLOR_BGR2GRAY)\n",
    "    curr_gray = cv2.resize(curr_gray, None, fx=scale, fy=scale)\n",
    "    curr_frame = cv2.resize(curr_frame, None, fx=scale, fy=scale)\n",
    "\n",
    "    fgmask = fgbg.apply(curr_gray)\n",
    "    mask_of_movement = np.where((fgmask == 255) | (fgmask == 127), 1, 0).astype(np.uint8)\n",
    "    cv2.accumulateWeighted(curr_frame, running_average, 0.02, mask=mask_of_movement)\n",
    "    curr_frame = cv2.convertScaleAbs(running_average)\n",
    "\n",
    "    cv2.imshow(\"Frame\", curr_frame)\n",
    "\n",
    "video.release() \n",
    "cv2.destroyAllWindows()"
   ]
  },
  {
   "cell_type": "code",
   "execution_count": null,
   "id": "f07ca6cf-70a8-4f9c-900e-0e296a86fddf",
   "metadata": {},
   "outputs": [],
   "source": []
  }
 ],
 "metadata": {
  "kernelspec": {
   "display_name": "Python 3 (ipykernel)",
   "language": "python",
   "name": "python3"
  },
  "language_info": {
   "codemirror_mode": {
    "name": "ipython",
    "version": 3
   },
   "file_extension": ".py",
   "mimetype": "text/x-python",
   "name": "python",
   "nbconvert_exporter": "python",
   "pygments_lexer": "ipython3",
   "version": "3.12.0"
  }
 },
 "nbformat": 4,
 "nbformat_minor": 5
}
